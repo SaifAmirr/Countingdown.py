{
 "cells": [
  {
   "cell_type": "code",
   "execution_count": null,
   "id": "67cadd63",
   "metadata": {},
   "outputs": [],
   "source": []
  },
  {
   "cell_type": "code",
   "execution_count": 14,
   "id": "adbcbd51",
   "metadata": {},
   "outputs": [
    {
     "name": "stdout",
     "output_type": "stream",
     "text": [
      ">> 8\n",
      "Fire in the hole!\n"
     ]
    }
   ],
   "source": [
    "#Countingdown.py\n",
    "#A program to perfrom a countingdown timer taking number of seconds from user\n",
    "import time #importing the time module\n",
    "def countingdown(t): #defining the function\n",
    "    while t:\n",
    "        m, s = divmod(t, 60) #returns the quotient and remainder of the division of the 2 parameters, #m>>minutes, #s>>seconds\n",
    "        h, m = divmod(m, 60) #returns the quotient and remainder of the division of the 2 parameters, #h>>hours, #m>> minutes\n",
    "        time_left = str(h).zfill(2) + \":\" + str(m).zfill(2) + \":\" + str(s).zfill(2)\n",
    "        print(time_left, end=\"\\r\")\n",
    "        time.sleep(1) #making the code wait for 1 second\n",
    "        t = t - 1 #after waiting 1 second this line is interpreted\n",
    "    print(\"Fire in the hole!\")\n",
    "t=input(\">> \") #user input in seconds   \n",
    "countingdown(int(t)) #calling the function in int because the uin is in str  \n",
    "            \n",
    "            "
   ]
  },
  {
   "cell_type": "code",
   "execution_count": null,
   "id": "fce70b78",
   "metadata": {},
   "outputs": [],
   "source": []
  },
  {
   "cell_type": "code",
   "execution_count": null,
   "id": "e0a4ed3e",
   "metadata": {},
   "outputs": [],
   "source": []
  }
 ],
 "metadata": {
  "kernelspec": {
   "display_name": "Python 3 (ipykernel)",
   "language": "python",
   "name": "python3"
  },
  "language_info": {
   "codemirror_mode": {
    "name": "ipython",
    "version": 3
   },
   "file_extension": ".py",
   "mimetype": "text/x-python",
   "name": "python",
   "nbconvert_exporter": "python",
   "pygments_lexer": "ipython3",
   "version": "3.9.7"
  }
 },
 "nbformat": 4,
 "nbformat_minor": 5
}
